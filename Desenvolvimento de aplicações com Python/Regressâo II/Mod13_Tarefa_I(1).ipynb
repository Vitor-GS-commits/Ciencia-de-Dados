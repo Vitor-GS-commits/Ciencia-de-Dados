{
 "cells": [
  {
   "cell_type": "markdown",
   "metadata": {
    "id": "u3ImM4OlAbtM"
   },
   "source": [
    "# EBAC - Regressão II - regressão múltipla\n",
    "\n",
    "## Tarefa I"
   ]
  },
  {
   "cell_type": "markdown",
   "metadata": {
    "id": "3T2kPf4MAbtV"
   },
   "source": [
    "#### Previsão de renda\n",
    "\n",
    "Vamos trabalhar com a base 'previsao_de_renda.csv', que é a base do seu próximo projeto. Vamos usar os recursos que vimos até aqui nesta base.\n",
    "\n",
    "|variavel|descrição|\n",
    "|-|-|\n",
    "|data_ref                | Data de referência de coleta das variáveis |\n",
    "|index                   | Código de identificação do cliente|\n",
    "|sexo                    | Sexo do cliente|\n",
    "|posse_de_veiculo        | Indica se o cliente possui veículo|\n",
    "|posse_de_imovel         | Indica se o cliente possui imóvel|\n",
    "|qtd_filhos              | Quantidade de filhos do cliente|\n",
    "|tipo_renda              | Tipo de renda do cliente|\n",
    "|educacao                | Grau de instrução do cliente|\n",
    "|estado_civil            | Estado civil do cliente|\n",
    "|tipo_residencia         | Tipo de residência do cliente (própria, alugada etc)|\n",
    "|idade                   | Idade do cliente|\n",
    "|tempo_emprego           | Tempo no emprego atual|\n",
    "|qt_pessoas_residencia   | Quantidade de pessoas que moram na residência|\n",
    "|renda                   | Renda em reais|"
   ]
  },
  {
   "cell_type": "code",
   "execution_count": 4,
   "metadata": {
    "id": "gK-w9tgwAbtW"
   },
   "outputs": [],
   "source": [
    "\n",
    "import pandas as pd\n",
    "import numpy as np\n",
    "\n",
    "import seaborn as sns\n",
    "import matplotlib.pyplot as plt\n",
    "\n",
    "# from sklearn.model_selection import train_test_split\n",
    "# from sklearn import metrics\n",
    "# from sklearn.ensemble import RandomForestClassifier\n",
    "\n",
    "# from scipy.stats import ks_2samp\n",
    "import statsmodels.formula.api as smf\n",
    "import statsmodels.api as sm\n",
    "import patsy\n"
   ]
  },
  {
   "cell_type": "code",
   "execution_count": 14,
   "metadata": {
    "id": "1oqRvcQxAbtY"
   },
   "outputs": [],
   "source": [
    "df = pd.read_csv('previsao_de_renda.csv')"
   ]
  },
  {
   "cell_type": "code",
   "execution_count": 10,
   "metadata": {
    "colab": {
     "base_uri": "https://localhost:8080/"
    },
    "id": "379vrkVHAbta",
    "outputId": "05928346-3188-4787-adcc-5487fa3a897a"
   },
   "outputs": [
    {
     "name": "stdout",
     "output_type": "stream",
     "text": [
      "<class 'pandas.core.frame.DataFrame'>\n",
      "RangeIndex: 15000 entries, 0 to 14999\n",
      "Data columns (total 15 columns):\n",
      " #   Column                 Non-Null Count  Dtype  \n",
      "---  ------                 --------------  -----  \n",
      " 0   Unnamed: 0             15000 non-null  int64  \n",
      " 1   data_ref               15000 non-null  object \n",
      " 2   id_cliente             15000 non-null  int64  \n",
      " 3   sexo                   15000 non-null  object \n",
      " 4   posse_de_veiculo       15000 non-null  bool   \n",
      " 5   posse_de_imovel        15000 non-null  bool   \n",
      " 6   qtd_filhos             15000 non-null  int64  \n",
      " 7   tipo_renda             15000 non-null  object \n",
      " 8   educacao               15000 non-null  object \n",
      " 9   estado_civil           15000 non-null  object \n",
      " 10  tipo_residencia        15000 non-null  object \n",
      " 11  idade                  15000 non-null  int64  \n",
      " 12  tempo_emprego          12427 non-null  float64\n",
      " 13  qt_pessoas_residencia  15000 non-null  float64\n",
      " 14  renda                  15000 non-null  float64\n",
      "dtypes: bool(2), float64(3), int64(4), object(6)\n",
      "memory usage: 1.5+ MB\n"
     ]
    }
   ],
   "source": [
    "df.info()"
   ]
  },
  {
   "cell_type": "markdown",
   "metadata": {
    "id": "mQ6PwTurAbtb"
   },
   "source": [
    "1. Ajuste um modelo para prever log(renda) considerando todas as covariáveis disponíveis.\n",
    "    - Utilizando os recursos do Patsy, coloque as variáveis qualitativas como *dummies*.\n",
    "    - Mantenha sempre a categoria mais frequente como casela de referência\n",
    "    - Avalie os parâmetros e veja se parecem fazer sentido prático.\n",
    "\n",
    "2. Remova a variável menos significante e analise:\n",
    "    - Observe os indicadores que vimos, e avalie se o modelo melhorou ou piorou na sua opinião.\n",
    "    - Observe os parâmetros e veja se algum se alterou muito.\n",
    "\n",
    "3. Siga removendo as variáveis menos significantes, sempre que o *p-value* for menor que 5%. Compare o modelo final com o inicial. Observe os indicadores e conclua se o modelo parece melhor.\n",
    "    "
   ]
  },
  {
   "cell_type": "markdown",
   "metadata": {},
   "source": [
    "# 1"
   ]
  },
  {
   "cell_type": "code",
   "execution_count": 18,
   "metadata": {
    "colab": {
     "base_uri": "https://localhost:8080/"
    },
    "id": "zyOINoP1EO4X",
    "outputId": "455064c3-17f9-4646-c3a7-6dead58066c3"
   },
   "outputs": [
    {
     "data": {
      "text/plain": [
       "Index(['Unnamed: 0', 'data_ref', 'id_cliente', 'sexo', 'posse_de_veiculo',\n",
       "       'posse_de_imovel', 'qtd_filhos', 'tipo_renda', 'educacao',\n",
       "       'estado_civil', 'tipo_residencia', 'idade', 'tempo_emprego',\n",
       "       'qt_pessoas_residencia', 'renda'],\n",
       "      dtype='object')"
      ]
     },
     "execution_count": 18,
     "metadata": {},
     "output_type": "execute_result"
    }
   ],
   "source": [
    "df.columns"
   ]
  },
  {
   "cell_type": "code",
   "execution_count": 20,
   "metadata": {
    "id": "gQ6kRoE8Abtc"
   },
   "outputs": [],
   "source": [
    "#1\n",
    "df = df.drop(columns=['Unnamed: 0','data_ref', 'id_cliente'])"
   ]
  },
  {
   "cell_type": "code",
   "execution_count": 22,
   "metadata": {
    "colab": {
     "base_uri": "https://localhost:8080/"
    },
    "id": "6n6l35jqErds",
    "outputId": "c3a546a4-2174-4436-fd54-60ead68e87e9"
   },
   "outputs": [
    {
     "name": "stdout",
     "output_type": "stream",
     "text": [
      "<class 'pandas.core.frame.DataFrame'>\n",
      "RangeIndex: 15000 entries, 0 to 14999\n",
      "Data columns (total 12 columns):\n",
      " #   Column                 Non-Null Count  Dtype  \n",
      "---  ------                 --------------  -----  \n",
      " 0   sexo                   15000 non-null  object \n",
      " 1   posse_de_veiculo       15000 non-null  bool   \n",
      " 2   posse_de_imovel        15000 non-null  bool   \n",
      " 3   qtd_filhos             15000 non-null  int64  \n",
      " 4   tipo_renda             15000 non-null  object \n",
      " 5   educacao               15000 non-null  object \n",
      " 6   estado_civil           15000 non-null  object \n",
      " 7   tipo_residencia        15000 non-null  object \n",
      " 8   idade                  15000 non-null  int64  \n",
      " 9   tempo_emprego          12427 non-null  float64\n",
      " 10  qt_pessoas_residencia  15000 non-null  float64\n",
      " 11  renda                  15000 non-null  float64\n",
      "dtypes: bool(2), float64(3), int64(2), object(5)\n",
      "memory usage: 1.2+ MB\n"
     ]
    }
   ],
   "source": [
    "df.info()"
   ]
  },
  {
   "cell_type": "code",
   "execution_count": 49,
   "metadata": {
    "colab": {
     "base_uri": "https://localhost:8080/",
     "height": 383
    },
    "id": "aaJfqLb3CroO",
    "outputId": "1b02e5fe-60f8-4422-8e02-43546661205b"
   },
   "outputs": [],
   "source": [
    "#df.groupby(['qtd_filhos']).sum()"
   ]
  },
  {
   "cell_type": "code",
   "execution_count": 24,
   "metadata": {},
   "outputs": [
    {
     "data": {
      "text/plain": [
       "0"
      ]
     },
     "execution_count": 24,
     "metadata": {},
     "output_type": "execute_result"
    }
   ],
   "source": [
    "categoria_mais_frequente = df['qtd_filhos'].value_counts().idxmax()\n",
    "categoria_mais_frequente"
   ]
  },
  {
   "cell_type": "code",
   "execution_count": 26,
   "metadata": {},
   "outputs": [
    {
     "data": {
      "text/plain": [
       "2.0"
      ]
     },
     "execution_count": 26,
     "metadata": {},
     "output_type": "execute_result"
    }
   ],
   "source": [
    "categoria_mais_frequente2 = df['qt_pessoas_residencia'].value_counts().idxmax()\n",
    "categoria_mais_frequente2"
   ]
  },
  {
   "cell_type": "code",
   "execution_count": 28,
   "metadata": {},
   "outputs": [
    {
     "data": {
      "text/plain": [
       "tipo_renda\n",
       "Assalariado         7633\n",
       "Empresário          3508\n",
       "Pensionista         2582\n",
       "Servidor público    1268\n",
       "Bolsista               9\n",
       "Name: count, dtype: int64"
      ]
     },
     "execution_count": 28,
     "metadata": {},
     "output_type": "execute_result"
    }
   ],
   "source": [
    "categoria_mais_frequente3 = df['tipo_renda'].value_counts()\n",
    "categoria_mais_frequente3"
   ]
  },
  {
   "cell_type": "code",
   "execution_count": 30,
   "metadata": {},
   "outputs": [
    {
     "data": {
      "text/plain": [
       "Index(['sexo', 'posse_de_veiculo', 'posse_de_imovel', 'qtd_filhos',\n",
       "       'tipo_renda', 'educacao', 'estado_civil', 'tipo_residencia', 'idade',\n",
       "       'tempo_emprego', 'qt_pessoas_residencia', 'renda'],\n",
       "      dtype='object')"
      ]
     },
     "execution_count": 30,
     "metadata": {},
     "output_type": "execute_result"
    }
   ],
   "source": [
    "df.columns"
   ]
  },
  {
   "cell_type": "code",
   "execution_count": 55,
   "metadata": {
    "scrolled": true
   },
   "outputs": [
    {
     "data": {
      "text/html": [
       "<table class=\"simpletable\">\n",
       "<caption>OLS Regression Results</caption>\n",
       "<tr>\n",
       "  <th>Dep. Variable:</th>      <td>np.log(renda)</td>  <th>  R-squared:         </th> <td>   0.358</td> \n",
       "</tr>\n",
       "<tr>\n",
       "  <th>Model:</th>                   <td>OLS</td>       <th>  Adj. R-squared:    </th> <td>   0.357</td> \n",
       "</tr>\n",
       "<tr>\n",
       "  <th>Method:</th>             <td>Least Squares</td>  <th>  F-statistic:       </th> <td>   230.6</td> \n",
       "</tr>\n",
       "<tr>\n",
       "  <th>Date:</th>             <td>Fri, 26 Jul 2024</td> <th>  Prob (F-statistic):</th>  <td>  0.00</td>  \n",
       "</tr>\n",
       "<tr>\n",
       "  <th>Time:</th>                 <td>16:25:54</td>     <th>  Log-Likelihood:    </th> <td> -13561.</td> \n",
       "</tr>\n",
       "<tr>\n",
       "  <th>No. Observations:</th>      <td> 12427</td>      <th>  AIC:               </th> <td>2.718e+04</td>\n",
       "</tr>\n",
       "<tr>\n",
       "  <th>Df Residuals:</th>          <td> 12396</td>      <th>  BIC:               </th> <td>2.741e+04</td>\n",
       "</tr>\n",
       "<tr>\n",
       "  <th>Df Model:</th>              <td>    30</td>      <th>                     </th>     <td> </td>    \n",
       "</tr>\n",
       "<tr>\n",
       "  <th>Covariance Type:</th>      <td>nonrobust</td>    <th>                     </th>     <td> </td>    \n",
       "</tr>\n",
       "</table>\n",
       "<table class=\"simpletable\">\n",
       "<tr>\n",
       "                  <td></td>                     <th>coef</th>     <th>std err</th>      <th>t</th>      <th>P>|t|</th>  <th>[0.025</th>    <th>0.975]</th>  \n",
       "</tr>\n",
       "<tr>\n",
       "  <th>Intercept</th>                         <td>    4.5282</td> <td>    1.026</td> <td>    4.414</td> <td> 0.000</td> <td>    2.517</td> <td>    6.539</td>\n",
       "</tr>\n",
       "<tr>\n",
       "  <th>sexo[T.M]</th>                         <td>    0.7882</td> <td>    0.015</td> <td>   53.731</td> <td> 0.000</td> <td>    0.759</td> <td>    0.817</td>\n",
       "</tr>\n",
       "<tr>\n",
       "  <th>posse_de_veiculo[T.True]</th>          <td>    0.0433</td> <td>    0.014</td> <td>    3.063</td> <td> 0.002</td> <td>    0.016</td> <td>    0.071</td>\n",
       "</tr>\n",
       "<tr>\n",
       "  <th>posse_de_imovel[T.True]</th>           <td>    0.0830</td> <td>    0.014</td> <td>    5.927</td> <td> 0.000</td> <td>    0.056</td> <td>    0.110</td>\n",
       "</tr>\n",
       "<tr>\n",
       "  <th>C(qtd_filhos, Treatment(7))[T.0]</th>  <td>    2.0322</td> <td>    0.820</td> <td>    2.477</td> <td> 0.013</td> <td>    0.424</td> <td>    3.640</td>\n",
       "</tr>\n",
       "<tr>\n",
       "  <th>C(qtd_filhos, Treatment(7))[T.1]</th>  <td>    1.7792</td> <td>    0.723</td> <td>    2.461</td> <td> 0.014</td> <td>    0.362</td> <td>    3.196</td>\n",
       "</tr>\n",
       "<tr>\n",
       "  <th>C(qtd_filhos, Treatment(7))[T.2]</th>  <td>    1.5184</td> <td>    0.629</td> <td>    2.415</td> <td> 0.016</td> <td>    0.286</td> <td>    2.751</td>\n",
       "</tr>\n",
       "<tr>\n",
       "  <th>C(qtd_filhos, Treatment(7))[T.3]</th>  <td>    1.1080</td> <td>    0.541</td> <td>    2.047</td> <td> 0.041</td> <td>    0.047</td> <td>    2.169</td>\n",
       "</tr>\n",
       "<tr>\n",
       "  <th>C(qtd_filhos, Treatment(7))[T.4]</th>  <td>    1.2144</td> <td>    0.489</td> <td>    2.482</td> <td> 0.013</td> <td>    0.255</td> <td>    2.173</td>\n",
       "</tr>\n",
       "<tr>\n",
       "  <th>C(qtd_filhos, Treatment(7))[T.5]</th>  <td>    1.0028</td> <td>    0.643</td> <td>    1.560</td> <td> 0.119</td> <td>   -0.258</td> <td>    2.263</td>\n",
       "</tr>\n",
       "<tr>\n",
       "  <th>C(qtd_filhos, Treatment(7))[T.14]</th> <td>   -2.7621</td> <td>    0.967</td> <td>   -2.857</td> <td> 0.004</td> <td>   -4.657</td> <td>   -0.867</td>\n",
       "</tr>\n",
       "<tr>\n",
       "  <th>tipo_renda[T.Bolsista]</th>            <td>    0.2242</td> <td>    0.241</td> <td>    0.930</td> <td> 0.353</td> <td>   -0.248</td> <td>    0.697</td>\n",
       "</tr>\n",
       "<tr>\n",
       "  <th>tipo_renda[T.Empresário]</th>          <td>    0.1551</td> <td>    0.015</td> <td>   10.389</td> <td> 0.000</td> <td>    0.126</td> <td>    0.184</td>\n",
       "</tr>\n",
       "<tr>\n",
       "  <th>tipo_renda[T.Pensionista]</th>         <td>   -0.3119</td> <td>    0.241</td> <td>   -1.293</td> <td> 0.196</td> <td>   -0.785</td> <td>    0.161</td>\n",
       "</tr>\n",
       "<tr>\n",
       "  <th>tipo_renda[T.Servidor público]</th>    <td>    0.0556</td> <td>    0.022</td> <td>    2.501</td> <td> 0.012</td> <td>    0.012</td> <td>    0.099</td>\n",
       "</tr>\n",
       "<tr>\n",
       "  <th>educacao[T.Pós graduação]</th>         <td>    0.0995</td> <td>    0.159</td> <td>    0.625</td> <td> 0.532</td> <td>   -0.212</td> <td>    0.411</td>\n",
       "</tr>\n",
       "<tr>\n",
       "  <th>educacao[T.Secundário]</th>            <td>   -0.0139</td> <td>    0.072</td> <td>   -0.192</td> <td> 0.847</td> <td>   -0.155</td> <td>    0.127</td>\n",
       "</tr>\n",
       "<tr>\n",
       "  <th>educacao[T.Superior completo]</th>     <td>    0.0932</td> <td>    0.072</td> <td>    1.290</td> <td> 0.197</td> <td>   -0.048</td> <td>    0.235</td>\n",
       "</tr>\n",
       "<tr>\n",
       "  <th>educacao[T.Superior incompleto]</th>   <td>   -0.0423</td> <td>    0.078</td> <td>   -0.544</td> <td> 0.587</td> <td>   -0.195</td> <td>    0.110</td>\n",
       "</tr>\n",
       "<tr>\n",
       "  <th>estado_civil[T.Separado]</th>          <td>    0.3311</td> <td>    0.111</td> <td>    2.976</td> <td> 0.003</td> <td>    0.113</td> <td>    0.549</td>\n",
       "</tr>\n",
       "<tr>\n",
       "  <th>estado_civil[T.Solteiro]</th>          <td>    0.2739</td> <td>    0.109</td> <td>    2.515</td> <td> 0.012</td> <td>    0.060</td> <td>    0.487</td>\n",
       "</tr>\n",
       "<tr>\n",
       "  <th>estado_civil[T.União]</th>             <td>   -0.0340</td> <td>    0.025</td> <td>   -1.351</td> <td> 0.177</td> <td>   -0.083</td> <td>    0.015</td>\n",
       "</tr>\n",
       "<tr>\n",
       "  <th>estado_civil[T.Viúvo]</th>             <td>    0.3735</td> <td>    0.116</td> <td>    3.231</td> <td> 0.001</td> <td>    0.147</td> <td>    0.600</td>\n",
       "</tr>\n",
       "<tr>\n",
       "  <th>tipo_residencia[T.Casa]</th>           <td>   -0.0435</td> <td>    0.054</td> <td>   -0.804</td> <td> 0.421</td> <td>   -0.150</td> <td>    0.063</td>\n",
       "</tr>\n",
       "<tr>\n",
       "  <th>tipo_residencia[T.Com os pais]</th>    <td>   -0.0245</td> <td>    0.060</td> <td>   -0.406</td> <td> 0.685</td> <td>   -0.143</td> <td>    0.094</td>\n",
       "</tr>\n",
       "<tr>\n",
       "  <th>tipo_residencia[T.Comunitário]</th>    <td>   -0.1204</td> <td>    0.106</td> <td>   -1.139</td> <td> 0.255</td> <td>   -0.328</td> <td>    0.087</td>\n",
       "</tr>\n",
       "<tr>\n",
       "  <th>tipo_residencia[T.Estúdio]</th>        <td>    0.0632</td> <td>    0.099</td> <td>    0.636</td> <td> 0.525</td> <td>   -0.132</td> <td>    0.258</td>\n",
       "</tr>\n",
       "<tr>\n",
       "  <th>tipo_residencia[T.Governamental]</th>  <td>   -0.0556</td> <td>    0.066</td> <td>   -0.843</td> <td> 0.399</td> <td>   -0.185</td> <td>    0.074</td>\n",
       "</tr>\n",
       "<tr>\n",
       "  <th>idade</th>                             <td>    0.0056</td> <td>    0.001</td> <td>    6.884</td> <td> 0.000</td> <td>    0.004</td> <td>    0.007</td>\n",
       "</tr>\n",
       "<tr>\n",
       "  <th>tempo_emprego</th>                     <td>    0.0616</td> <td>    0.001</td> <td>   59.293</td> <td> 0.000</td> <td>    0.060</td> <td>    0.064</td>\n",
       "</tr>\n",
       "<tr>\n",
       "  <th>qt_pessoas_residencia</th>             <td>    0.2964</td> <td>    0.108</td> <td>    2.751</td> <td> 0.006</td> <td>    0.085</td> <td>    0.508</td>\n",
       "</tr>\n",
       "</table>\n",
       "<table class=\"simpletable\">\n",
       "<tr>\n",
       "  <th>Omnibus:</th>       <td> 1.117</td> <th>  Durbin-Watson:     </th> <td>   2.024</td>\n",
       "</tr>\n",
       "<tr>\n",
       "  <th>Prob(Omnibus):</th> <td> 0.572</td> <th>  Jarque-Bera (JB):  </th> <td>   1.092</td>\n",
       "</tr>\n",
       "<tr>\n",
       "  <th>Skew:</th>          <td> 0.021</td> <th>  Prob(JB):          </th> <td>   0.579</td>\n",
       "</tr>\n",
       "<tr>\n",
       "  <th>Kurtosis:</th>      <td> 3.017</td> <th>  Cond. No.          </th> <td>1.25e+04</td>\n",
       "</tr>\n",
       "</table><br/><br/>Notes:<br/>[1] Standard Errors assume that the covariance matrix of the errors is correctly specified.<br/>[2] The condition number is large, 1.25e+04. This might indicate that there are<br/>strong multicollinearity or other numerical problems."
      ],
      "text/latex": [
       "\\begin{center}\n",
       "\\begin{tabular}{lclc}\n",
       "\\toprule\n",
       "\\textbf{Dep. Variable:}                     &  np.log(renda)   & \\textbf{  R-squared:         } &     0.358   \\\\\n",
       "\\textbf{Model:}                             &       OLS        & \\textbf{  Adj. R-squared:    } &     0.357   \\\\\n",
       "\\textbf{Method:}                            &  Least Squares   & \\textbf{  F-statistic:       } &     230.6   \\\\\n",
       "\\textbf{Date:}                              & Fri, 26 Jul 2024 & \\textbf{  Prob (F-statistic):} &     0.00    \\\\\n",
       "\\textbf{Time:}                              &     16:25:54     & \\textbf{  Log-Likelihood:    } &   -13561.   \\\\\n",
       "\\textbf{No. Observations:}                  &       12427      & \\textbf{  AIC:               } & 2.718e+04   \\\\\n",
       "\\textbf{Df Residuals:}                      &       12396      & \\textbf{  BIC:               } & 2.741e+04   \\\\\n",
       "\\textbf{Df Model:}                          &          30      & \\textbf{                     } &             \\\\\n",
       "\\textbf{Covariance Type:}                   &    nonrobust     & \\textbf{                     } &             \\\\\n",
       "\\bottomrule\n",
       "\\end{tabular}\n",
       "\\begin{tabular}{lcccccc}\n",
       "                                            & \\textbf{coef} & \\textbf{std err} & \\textbf{t} & \\textbf{P$> |$t$|$} & \\textbf{[0.025} & \\textbf{0.975]}  \\\\\n",
       "\\midrule\n",
       "\\textbf{Intercept}                          &       4.5282  &        1.026     &     4.414  &         0.000        &        2.517    &        6.539     \\\\\n",
       "\\textbf{sexo[T.M]}                          &       0.7882  &        0.015     &    53.731  &         0.000        &        0.759    &        0.817     \\\\\n",
       "\\textbf{posse\\_de\\_veiculo[T.True]}         &       0.0433  &        0.014     &     3.063  &         0.002        &        0.016    &        0.071     \\\\\n",
       "\\textbf{posse\\_de\\_imovel[T.True]}          &       0.0830  &        0.014     &     5.927  &         0.000        &        0.056    &        0.110     \\\\\n",
       "\\textbf{C(qtd\\_filhos, Treatment(7))[T.0]}  &       2.0322  &        0.820     &     2.477  &         0.013        &        0.424    &        3.640     \\\\\n",
       "\\textbf{C(qtd\\_filhos, Treatment(7))[T.1]}  &       1.7792  &        0.723     &     2.461  &         0.014        &        0.362    &        3.196     \\\\\n",
       "\\textbf{C(qtd\\_filhos, Treatment(7))[T.2]}  &       1.5184  &        0.629     &     2.415  &         0.016        &        0.286    &        2.751     \\\\\n",
       "\\textbf{C(qtd\\_filhos, Treatment(7))[T.3]}  &       1.1080  &        0.541     &     2.047  &         0.041        &        0.047    &        2.169     \\\\\n",
       "\\textbf{C(qtd\\_filhos, Treatment(7))[T.4]}  &       1.2144  &        0.489     &     2.482  &         0.013        &        0.255    &        2.173     \\\\\n",
       "\\textbf{C(qtd\\_filhos, Treatment(7))[T.5]}  &       1.0028  &        0.643     &     1.560  &         0.119        &       -0.258    &        2.263     \\\\\n",
       "\\textbf{C(qtd\\_filhos, Treatment(7))[T.14]} &      -2.7621  &        0.967     &    -2.857  &         0.004        &       -4.657    &       -0.867     \\\\\n",
       "\\textbf{tipo\\_renda[T.Bolsista]}            &       0.2242  &        0.241     &     0.930  &         0.353        &       -0.248    &        0.697     \\\\\n",
       "\\textbf{tipo\\_renda[T.Empresário]}          &       0.1551  &        0.015     &    10.389  &         0.000        &        0.126    &        0.184     \\\\\n",
       "\\textbf{tipo\\_renda[T.Pensionista]}         &      -0.3119  &        0.241     &    -1.293  &         0.196        &       -0.785    &        0.161     \\\\\n",
       "\\textbf{tipo\\_renda[T.Servidor público]}    &       0.0556  &        0.022     &     2.501  &         0.012        &        0.012    &        0.099     \\\\\n",
       "\\textbf{educacao[T.Pós graduação]}          &       0.0995  &        0.159     &     0.625  &         0.532        &       -0.212    &        0.411     \\\\\n",
       "\\textbf{educacao[T.Secundário]}             &      -0.0139  &        0.072     &    -0.192  &         0.847        &       -0.155    &        0.127     \\\\\n",
       "\\textbf{educacao[T.Superior completo]}      &       0.0932  &        0.072     &     1.290  &         0.197        &       -0.048    &        0.235     \\\\\n",
       "\\textbf{educacao[T.Superior incompleto]}    &      -0.0423  &        0.078     &    -0.544  &         0.587        &       -0.195    &        0.110     \\\\\n",
       "\\textbf{estado\\_civil[T.Separado]}          &       0.3311  &        0.111     &     2.976  &         0.003        &        0.113    &        0.549     \\\\\n",
       "\\textbf{estado\\_civil[T.Solteiro]}          &       0.2739  &        0.109     &     2.515  &         0.012        &        0.060    &        0.487     \\\\\n",
       "\\textbf{estado\\_civil[T.União]}             &      -0.0340  &        0.025     &    -1.351  &         0.177        &       -0.083    &        0.015     \\\\\n",
       "\\textbf{estado\\_civil[T.Viúvo]}             &       0.3735  &        0.116     &     3.231  &         0.001        &        0.147    &        0.600     \\\\\n",
       "\\textbf{tipo\\_residencia[T.Casa]}           &      -0.0435  &        0.054     &    -0.804  &         0.421        &       -0.150    &        0.063     \\\\\n",
       "\\textbf{tipo\\_residencia[T.Com os pais]}    &      -0.0245  &        0.060     &    -0.406  &         0.685        &       -0.143    &        0.094     \\\\\n",
       "\\textbf{tipo\\_residencia[T.Comunitário]}    &      -0.1204  &        0.106     &    -1.139  &         0.255        &       -0.328    &        0.087     \\\\\n",
       "\\textbf{tipo\\_residencia[T.Estúdio]}        &       0.0632  &        0.099     &     0.636  &         0.525        &       -0.132    &        0.258     \\\\\n",
       "\\textbf{tipo\\_residencia[T.Governamental]}  &      -0.0556  &        0.066     &    -0.843  &         0.399        &       -0.185    &        0.074     \\\\\n",
       "\\textbf{idade}                              &       0.0056  &        0.001     &     6.884  &         0.000        &        0.004    &        0.007     \\\\\n",
       "\\textbf{tempo\\_emprego}                     &       0.0616  &        0.001     &    59.293  &         0.000        &        0.060    &        0.064     \\\\\n",
       "\\textbf{qt\\_pessoas\\_residencia}            &       0.2964  &        0.108     &     2.751  &         0.006        &        0.085    &        0.508     \\\\\n",
       "\\bottomrule\n",
       "\\end{tabular}\n",
       "\\begin{tabular}{lclc}\n",
       "\\textbf{Omnibus:}       &  1.117 & \\textbf{  Durbin-Watson:     } &    2.024  \\\\\n",
       "\\textbf{Prob(Omnibus):} &  0.572 & \\textbf{  Jarque-Bera (JB):  } &    1.092  \\\\\n",
       "\\textbf{Skew:}          &  0.021 & \\textbf{  Prob(JB):          } &    0.579  \\\\\n",
       "\\textbf{Kurtosis:}      &  3.017 & \\textbf{  Cond. No.          } & 1.25e+04  \\\\\n",
       "\\bottomrule\n",
       "\\end{tabular}\n",
       "%\\caption{OLS Regression Results}\n",
       "\\end{center}\n",
       "\n",
       "Notes: \\newline\n",
       " [1] Standard Errors assume that the covariance matrix of the errors is correctly specified. \\newline\n",
       " [2] The condition number is large, 1.25e+04. This might indicate that there are \\newline\n",
       " strong multicollinearity or other numerical problems."
      ],
      "text/plain": [
       "<class 'statsmodels.iolib.summary.Summary'>\n",
       "\"\"\"\n",
       "                            OLS Regression Results                            \n",
       "==============================================================================\n",
       "Dep. Variable:          np.log(renda)   R-squared:                       0.358\n",
       "Model:                            OLS   Adj. R-squared:                  0.357\n",
       "Method:                 Least Squares   F-statistic:                     230.6\n",
       "Date:                Fri, 26 Jul 2024   Prob (F-statistic):               0.00\n",
       "Time:                        16:25:54   Log-Likelihood:                -13561.\n",
       "No. Observations:               12427   AIC:                         2.718e+04\n",
       "Df Residuals:                   12396   BIC:                         2.741e+04\n",
       "Df Model:                          30                                         \n",
       "Covariance Type:            nonrobust                                         \n",
       "=====================================================================================================\n",
       "                                        coef    std err          t      P>|t|      [0.025      0.975]\n",
       "-----------------------------------------------------------------------------------------------------\n",
       "Intercept                             4.5282      1.026      4.414      0.000       2.517       6.539\n",
       "sexo[T.M]                             0.7882      0.015     53.731      0.000       0.759       0.817\n",
       "posse_de_veiculo[T.True]              0.0433      0.014      3.063      0.002       0.016       0.071\n",
       "posse_de_imovel[T.True]               0.0830      0.014      5.927      0.000       0.056       0.110\n",
       "C(qtd_filhos, Treatment(7))[T.0]      2.0322      0.820      2.477      0.013       0.424       3.640\n",
       "C(qtd_filhos, Treatment(7))[T.1]      1.7792      0.723      2.461      0.014       0.362       3.196\n",
       "C(qtd_filhos, Treatment(7))[T.2]      1.5184      0.629      2.415      0.016       0.286       2.751\n",
       "C(qtd_filhos, Treatment(7))[T.3]      1.1080      0.541      2.047      0.041       0.047       2.169\n",
       "C(qtd_filhos, Treatment(7))[T.4]      1.2144      0.489      2.482      0.013       0.255       2.173\n",
       "C(qtd_filhos, Treatment(7))[T.5]      1.0028      0.643      1.560      0.119      -0.258       2.263\n",
       "C(qtd_filhos, Treatment(7))[T.14]    -2.7621      0.967     -2.857      0.004      -4.657      -0.867\n",
       "tipo_renda[T.Bolsista]                0.2242      0.241      0.930      0.353      -0.248       0.697\n",
       "tipo_renda[T.Empresário]              0.1551      0.015     10.389      0.000       0.126       0.184\n",
       "tipo_renda[T.Pensionista]            -0.3119      0.241     -1.293      0.196      -0.785       0.161\n",
       "tipo_renda[T.Servidor público]        0.0556      0.022      2.501      0.012       0.012       0.099\n",
       "educacao[T.Pós graduação]             0.0995      0.159      0.625      0.532      -0.212       0.411\n",
       "educacao[T.Secundário]               -0.0139      0.072     -0.192      0.847      -0.155       0.127\n",
       "educacao[T.Superior completo]         0.0932      0.072      1.290      0.197      -0.048       0.235\n",
       "educacao[T.Superior incompleto]      -0.0423      0.078     -0.544      0.587      -0.195       0.110\n",
       "estado_civil[T.Separado]              0.3311      0.111      2.976      0.003       0.113       0.549\n",
       "estado_civil[T.Solteiro]              0.2739      0.109      2.515      0.012       0.060       0.487\n",
       "estado_civil[T.União]                -0.0340      0.025     -1.351      0.177      -0.083       0.015\n",
       "estado_civil[T.Viúvo]                 0.3735      0.116      3.231      0.001       0.147       0.600\n",
       "tipo_residencia[T.Casa]              -0.0435      0.054     -0.804      0.421      -0.150       0.063\n",
       "tipo_residencia[T.Com os pais]       -0.0245      0.060     -0.406      0.685      -0.143       0.094\n",
       "tipo_residencia[T.Comunitário]       -0.1204      0.106     -1.139      0.255      -0.328       0.087\n",
       "tipo_residencia[T.Estúdio]            0.0632      0.099      0.636      0.525      -0.132       0.258\n",
       "tipo_residencia[T.Governamental]     -0.0556      0.066     -0.843      0.399      -0.185       0.074\n",
       "idade                                 0.0056      0.001      6.884      0.000       0.004       0.007\n",
       "tempo_emprego                         0.0616      0.001     59.293      0.000       0.060       0.064\n",
       "qt_pessoas_residencia                 0.2964      0.108      2.751      0.006       0.085       0.508\n",
       "==============================================================================\n",
       "Omnibus:                        1.117   Durbin-Watson:                   2.024\n",
       "Prob(Omnibus):                  0.572   Jarque-Bera (JB):                1.092\n",
       "Skew:                           0.021   Prob(JB):                        0.579\n",
       "Kurtosis:                       3.017   Cond. No.                     1.25e+04\n",
       "==============================================================================\n",
       "\n",
       "Notes:\n",
       "[1] Standard Errors assume that the covariance matrix of the errors is correctly specified.\n",
       "[2] The condition number is large, 1.25e+04. This might indicate that there are\n",
       "strong multicollinearity or other numerical problems.\n",
       "\"\"\""
      ]
     },
     "execution_count": 55,
     "metadata": {},
     "output_type": "execute_result"
    }
   ],
   "source": [
    "df1 = smf.ols(''' np.log(renda) ~ sexo + posse_de_veiculo + posse_de_imovel + C(qtd_filhos, Treatment(7)) \n",
    "                + tipo_renda + educacao + idade + estado_civil + tipo_residencia + idade\n",
    "                + tempo_emprego + qt_pessoas_residencia''', data = df).fit()\n",
    "df1.summary()"
   ]
  },
  {
   "cell_type": "markdown",
   "metadata": {},
   "source": [
    "# 2"
   ]
  },
  {
   "cell_type": "code",
   "execution_count": 57,
   "metadata": {
    "scrolled": true
   },
   "outputs": [
    {
     "data": {
      "text/html": [
       "<table class=\"simpletable\">\n",
       "<caption>OLS Regression Results</caption>\n",
       "<tr>\n",
       "  <th>Dep. Variable:</th>      <td>np.log(renda)</td>  <th>  R-squared:         </th> <td>   0.355</td> \n",
       "</tr>\n",
       "<tr>\n",
       "  <th>Model:</th>                   <td>OLS</td>       <th>  Adj. R-squared:    </th> <td>   0.353</td> \n",
       "</tr>\n",
       "<tr>\n",
       "  <th>Method:</th>             <td>Least Squares</td>  <th>  F-statistic:       </th> <td>   262.3</td> \n",
       "</tr>\n",
       "<tr>\n",
       "  <th>Date:</th>             <td>Fri, 26 Jul 2024</td> <th>  Prob (F-statistic):</th>  <td>  0.00</td>  \n",
       "</tr>\n",
       "<tr>\n",
       "  <th>Time:</th>                 <td>16:26:09</td>     <th>  Log-Likelihood:    </th> <td> -13593.</td> \n",
       "</tr>\n",
       "<tr>\n",
       "  <th>No. Observations:</th>      <td> 12427</td>      <th>  AIC:               </th> <td>2.724e+04</td>\n",
       "</tr>\n",
       "<tr>\n",
       "  <th>Df Residuals:</th>          <td> 12400</td>      <th>  BIC:               </th> <td>2.744e+04</td>\n",
       "</tr>\n",
       "<tr>\n",
       "  <th>Df Model:</th>              <td>    26</td>      <th>                     </th>     <td> </td>    \n",
       "</tr>\n",
       "<tr>\n",
       "  <th>Covariance Type:</th>      <td>nonrobust</td>    <th>                     </th>     <td> </td>    \n",
       "</tr>\n",
       "</table>\n",
       "<table class=\"simpletable\">\n",
       "<tr>\n",
       "                  <td></td>                     <th>coef</th>     <th>std err</th>      <th>t</th>      <th>P>|t|</th>  <th>[0.025</th>    <th>0.975]</th>  \n",
       "</tr>\n",
       "<tr>\n",
       "  <th>Intercept</th>                         <td>    4.5872</td> <td>    1.026</td> <td>    4.471</td> <td> 0.000</td> <td>    2.576</td> <td>    6.598</td>\n",
       "</tr>\n",
       "<tr>\n",
       "  <th>sexo[T.M]</th>                         <td>    0.7807</td> <td>    0.015</td> <td>   53.218</td> <td> 0.000</td> <td>    0.752</td> <td>    0.809</td>\n",
       "</tr>\n",
       "<tr>\n",
       "  <th>posse_de_veiculo[T.True]</th>          <td>    0.0523</td> <td>    0.014</td> <td>    3.703</td> <td> 0.000</td> <td>    0.025</td> <td>    0.080</td>\n",
       "</tr>\n",
       "<tr>\n",
       "  <th>posse_de_imovel[T.True]</th>           <td>    0.0856</td> <td>    0.014</td> <td>    6.104</td> <td> 0.000</td> <td>    0.058</td> <td>    0.113</td>\n",
       "</tr>\n",
       "<tr>\n",
       "  <th>C(qtd_filhos, Treatment(7))[T.0]</th>  <td>    2.0123</td> <td>    0.822</td> <td>    2.447</td> <td> 0.014</td> <td>    0.400</td> <td>    3.624</td>\n",
       "</tr>\n",
       "<tr>\n",
       "  <th>C(qtd_filhos, Treatment(7))[T.1]</th>  <td>    1.7693</td> <td>    0.725</td> <td>    2.442</td> <td> 0.015</td> <td>    0.349</td> <td>    3.190</td>\n",
       "</tr>\n",
       "<tr>\n",
       "  <th>C(qtd_filhos, Treatment(7))[T.2]</th>  <td>    1.5197</td> <td>    0.630</td> <td>    2.411</td> <td> 0.016</td> <td>    0.284</td> <td>    2.755</td>\n",
       "</tr>\n",
       "<tr>\n",
       "  <th>C(qtd_filhos, Treatment(7))[T.3]</th>  <td>    1.1037</td> <td>    0.542</td> <td>    2.035</td> <td> 0.042</td> <td>    0.040</td> <td>    2.167</td>\n",
       "</tr>\n",
       "<tr>\n",
       "  <th>C(qtd_filhos, Treatment(7))[T.4]</th>  <td>    1.1904</td> <td>    0.490</td> <td>    2.427</td> <td> 0.015</td> <td>    0.229</td> <td>    2.152</td>\n",
       "</tr>\n",
       "<tr>\n",
       "  <th>C(qtd_filhos, Treatment(7))[T.5]</th>  <td>    0.9637</td> <td>    0.645</td> <td>    1.495</td> <td> 0.135</td> <td>   -0.300</td> <td>    2.227</td>\n",
       "</tr>\n",
       "<tr>\n",
       "  <th>C(qtd_filhos, Treatment(7))[T.14]</th> <td>   -2.7160</td> <td>    0.969</td> <td>   -2.803</td> <td> 0.005</td> <td>   -4.615</td> <td>   -0.817</td>\n",
       "</tr>\n",
       "<tr>\n",
       "  <th>tipo_renda[T.Bolsista]</th>            <td>    0.3018</td> <td>    0.242</td> <td>    1.250</td> <td> 0.211</td> <td>   -0.172</td> <td>    0.775</td>\n",
       "</tr>\n",
       "<tr>\n",
       "  <th>tipo_renda[T.Empresário]</th>          <td>    0.1651</td> <td>    0.015</td> <td>   11.075</td> <td> 0.000</td> <td>    0.136</td> <td>    0.194</td>\n",
       "</tr>\n",
       "<tr>\n",
       "  <th>tipo_renda[T.Pensionista]</th>         <td>   -0.2558</td> <td>    0.242</td> <td>   -1.058</td> <td> 0.290</td> <td>   -0.730</td> <td>    0.218</td>\n",
       "</tr>\n",
       "<tr>\n",
       "  <th>tipo_renda[T.Servidor público]</th>    <td>    0.0730</td> <td>    0.022</td> <td>    3.293</td> <td> 0.001</td> <td>    0.030</td> <td>    0.116</td>\n",
       "</tr>\n",
       "<tr>\n",
       "  <th>estado_civil[T.Separado]</th>          <td>    0.3291</td> <td>    0.112</td> <td>    2.951</td> <td> 0.003</td> <td>    0.110</td> <td>    0.548</td>\n",
       "</tr>\n",
       "<tr>\n",
       "  <th>estado_civil[T.Solteiro]</th>          <td>    0.2694</td> <td>    0.109</td> <td>    2.467</td> <td> 0.014</td> <td>    0.055</td> <td>    0.483</td>\n",
       "</tr>\n",
       "<tr>\n",
       "  <th>estado_civil[T.União]</th>             <td>   -0.0371</td> <td>    0.025</td> <td>   -1.470</td> <td> 0.142</td> <td>   -0.087</td> <td>    0.012</td>\n",
       "</tr>\n",
       "<tr>\n",
       "  <th>estado_civil[T.Viúvo]</th>             <td>    0.3655</td> <td>    0.116</td> <td>    3.155</td> <td> 0.002</td> <td>    0.138</td> <td>    0.593</td>\n",
       "</tr>\n",
       "<tr>\n",
       "  <th>tipo_residencia[T.Casa]</th>           <td>   -0.0363</td> <td>    0.054</td> <td>   -0.670</td> <td> 0.503</td> <td>   -0.143</td> <td>    0.070</td>\n",
       "</tr>\n",
       "<tr>\n",
       "  <th>tipo_residencia[T.Com os pais]</th>    <td>   -0.0172</td> <td>    0.060</td> <td>   -0.285</td> <td> 0.776</td> <td>   -0.136</td> <td>    0.101</td>\n",
       "</tr>\n",
       "<tr>\n",
       "  <th>tipo_residencia[T.Comunitário]</th>    <td>   -0.0772</td> <td>    0.106</td> <td>   -0.731</td> <td> 0.465</td> <td>   -0.284</td> <td>    0.130</td>\n",
       "</tr>\n",
       "<tr>\n",
       "  <th>tipo_residencia[T.Estúdio]</th>        <td>    0.0816</td> <td>    0.100</td> <td>    0.820</td> <td> 0.413</td> <td>   -0.114</td> <td>    0.277</td>\n",
       "</tr>\n",
       "<tr>\n",
       "  <th>tipo_residencia[T.Governamental]</th>  <td>   -0.0563</td> <td>    0.066</td> <td>   -0.852</td> <td> 0.394</td> <td>   -0.186</td> <td>    0.073</td>\n",
       "</tr>\n",
       "<tr>\n",
       "  <th>idade</th>                             <td>    0.0052</td> <td>    0.001</td> <td>    6.493</td> <td> 0.000</td> <td>    0.004</td> <td>    0.007</td>\n",
       "</tr>\n",
       "<tr>\n",
       "  <th>tempo_emprego</th>                     <td>    0.0617</td> <td>    0.001</td> <td>   59.215</td> <td> 0.000</td> <td>    0.060</td> <td>    0.064</td>\n",
       "</tr>\n",
       "<tr>\n",
       "  <th>qt_pessoas_residencia</th>             <td>    0.2890</td> <td>    0.108</td> <td>    2.676</td> <td> 0.007</td> <td>    0.077</td> <td>    0.501</td>\n",
       "</tr>\n",
       "</table>\n",
       "<table class=\"simpletable\">\n",
       "<tr>\n",
       "  <th>Omnibus:</th>       <td> 1.540</td> <th>  Durbin-Watson:     </th> <td>   2.025</td>\n",
       "</tr>\n",
       "<tr>\n",
       "  <th>Prob(Omnibus):</th> <td> 0.463</td> <th>  Jarque-Bera (JB):  </th> <td>   1.507</td>\n",
       "</tr>\n",
       "<tr>\n",
       "  <th>Skew:</th>          <td> 0.023</td> <th>  Prob(JB):          </th> <td>   0.471</td>\n",
       "</tr>\n",
       "<tr>\n",
       "  <th>Kurtosis:</th>      <td> 3.027</td> <th>  Cond. No.          </th> <td>1.25e+04</td>\n",
       "</tr>\n",
       "</table><br/><br/>Notes:<br/>[1] Standard Errors assume that the covariance matrix of the errors is correctly specified.<br/>[2] The condition number is large, 1.25e+04. This might indicate that there are<br/>strong multicollinearity or other numerical problems."
      ],
      "text/latex": [
       "\\begin{center}\n",
       "\\begin{tabular}{lclc}\n",
       "\\toprule\n",
       "\\textbf{Dep. Variable:}                     &  np.log(renda)   & \\textbf{  R-squared:         } &     0.355   \\\\\n",
       "\\textbf{Model:}                             &       OLS        & \\textbf{  Adj. R-squared:    } &     0.353   \\\\\n",
       "\\textbf{Method:}                            &  Least Squares   & \\textbf{  F-statistic:       } &     262.3   \\\\\n",
       "\\textbf{Date:}                              & Fri, 26 Jul 2024 & \\textbf{  Prob (F-statistic):} &     0.00    \\\\\n",
       "\\textbf{Time:}                              &     16:26:09     & \\textbf{  Log-Likelihood:    } &   -13593.   \\\\\n",
       "\\textbf{No. Observations:}                  &       12427      & \\textbf{  AIC:               } & 2.724e+04   \\\\\n",
       "\\textbf{Df Residuals:}                      &       12400      & \\textbf{  BIC:               } & 2.744e+04   \\\\\n",
       "\\textbf{Df Model:}                          &          26      & \\textbf{                     } &             \\\\\n",
       "\\textbf{Covariance Type:}                   &    nonrobust     & \\textbf{                     } &             \\\\\n",
       "\\bottomrule\n",
       "\\end{tabular}\n",
       "\\begin{tabular}{lcccccc}\n",
       "                                            & \\textbf{coef} & \\textbf{std err} & \\textbf{t} & \\textbf{P$> |$t$|$} & \\textbf{[0.025} & \\textbf{0.975]}  \\\\\n",
       "\\midrule\n",
       "\\textbf{Intercept}                          &       4.5872  &        1.026     &     4.471  &         0.000        &        2.576    &        6.598     \\\\\n",
       "\\textbf{sexo[T.M]}                          &       0.7807  &        0.015     &    53.218  &         0.000        &        0.752    &        0.809     \\\\\n",
       "\\textbf{posse\\_de\\_veiculo[T.True]}         &       0.0523  &        0.014     &     3.703  &         0.000        &        0.025    &        0.080     \\\\\n",
       "\\textbf{posse\\_de\\_imovel[T.True]}          &       0.0856  &        0.014     &     6.104  &         0.000        &        0.058    &        0.113     \\\\\n",
       "\\textbf{C(qtd\\_filhos, Treatment(7))[T.0]}  &       2.0123  &        0.822     &     2.447  &         0.014        &        0.400    &        3.624     \\\\\n",
       "\\textbf{C(qtd\\_filhos, Treatment(7))[T.1]}  &       1.7693  &        0.725     &     2.442  &         0.015        &        0.349    &        3.190     \\\\\n",
       "\\textbf{C(qtd\\_filhos, Treatment(7))[T.2]}  &       1.5197  &        0.630     &     2.411  &         0.016        &        0.284    &        2.755     \\\\\n",
       "\\textbf{C(qtd\\_filhos, Treatment(7))[T.3]}  &       1.1037  &        0.542     &     2.035  &         0.042        &        0.040    &        2.167     \\\\\n",
       "\\textbf{C(qtd\\_filhos, Treatment(7))[T.4]}  &       1.1904  &        0.490     &     2.427  &         0.015        &        0.229    &        2.152     \\\\\n",
       "\\textbf{C(qtd\\_filhos, Treatment(7))[T.5]}  &       0.9637  &        0.645     &     1.495  &         0.135        &       -0.300    &        2.227     \\\\\n",
       "\\textbf{C(qtd\\_filhos, Treatment(7))[T.14]} &      -2.7160  &        0.969     &    -2.803  &         0.005        &       -4.615    &       -0.817     \\\\\n",
       "\\textbf{tipo\\_renda[T.Bolsista]}            &       0.3018  &        0.242     &     1.250  &         0.211        &       -0.172    &        0.775     \\\\\n",
       "\\textbf{tipo\\_renda[T.Empresário]}          &       0.1651  &        0.015     &    11.075  &         0.000        &        0.136    &        0.194     \\\\\n",
       "\\textbf{tipo\\_renda[T.Pensionista]}         &      -0.2558  &        0.242     &    -1.058  &         0.290        &       -0.730    &        0.218     \\\\\n",
       "\\textbf{tipo\\_renda[T.Servidor público]}    &       0.0730  &        0.022     &     3.293  &         0.001        &        0.030    &        0.116     \\\\\n",
       "\\textbf{estado\\_civil[T.Separado]}          &       0.3291  &        0.112     &     2.951  &         0.003        &        0.110    &        0.548     \\\\\n",
       "\\textbf{estado\\_civil[T.Solteiro]}          &       0.2694  &        0.109     &     2.467  &         0.014        &        0.055    &        0.483     \\\\\n",
       "\\textbf{estado\\_civil[T.União]}             &      -0.0371  &        0.025     &    -1.470  &         0.142        &       -0.087    &        0.012     \\\\\n",
       "\\textbf{estado\\_civil[T.Viúvo]}             &       0.3655  &        0.116     &     3.155  &         0.002        &        0.138    &        0.593     \\\\\n",
       "\\textbf{tipo\\_residencia[T.Casa]}           &      -0.0363  &        0.054     &    -0.670  &         0.503        &       -0.143    &        0.070     \\\\\n",
       "\\textbf{tipo\\_residencia[T.Com os pais]}    &      -0.0172  &        0.060     &    -0.285  &         0.776        &       -0.136    &        0.101     \\\\\n",
       "\\textbf{tipo\\_residencia[T.Comunitário]}    &      -0.0772  &        0.106     &    -0.731  &         0.465        &       -0.284    &        0.130     \\\\\n",
       "\\textbf{tipo\\_residencia[T.Estúdio]}        &       0.0816  &        0.100     &     0.820  &         0.413        &       -0.114    &        0.277     \\\\\n",
       "\\textbf{tipo\\_residencia[T.Governamental]}  &      -0.0563  &        0.066     &    -0.852  &         0.394        &       -0.186    &        0.073     \\\\\n",
       "\\textbf{idade}                              &       0.0052  &        0.001     &     6.493  &         0.000        &        0.004    &        0.007     \\\\\n",
       "\\textbf{tempo\\_emprego}                     &       0.0617  &        0.001     &    59.215  &         0.000        &        0.060    &        0.064     \\\\\n",
       "\\textbf{qt\\_pessoas\\_residencia}            &       0.2890  &        0.108     &     2.676  &         0.007        &        0.077    &        0.501     \\\\\n",
       "\\bottomrule\n",
       "\\end{tabular}\n",
       "\\begin{tabular}{lclc}\n",
       "\\textbf{Omnibus:}       &  1.540 & \\textbf{  Durbin-Watson:     } &    2.025  \\\\\n",
       "\\textbf{Prob(Omnibus):} &  0.463 & \\textbf{  Jarque-Bera (JB):  } &    1.507  \\\\\n",
       "\\textbf{Skew:}          &  0.023 & \\textbf{  Prob(JB):          } &    0.471  \\\\\n",
       "\\textbf{Kurtosis:}      &  3.027 & \\textbf{  Cond. No.          } & 1.25e+04  \\\\\n",
       "\\bottomrule\n",
       "\\end{tabular}\n",
       "%\\caption{OLS Regression Results}\n",
       "\\end{center}\n",
       "\n",
       "Notes: \\newline\n",
       " [1] Standard Errors assume that the covariance matrix of the errors is correctly specified. \\newline\n",
       " [2] The condition number is large, 1.25e+04. This might indicate that there are \\newline\n",
       " strong multicollinearity or other numerical problems."
      ],
      "text/plain": [
       "<class 'statsmodels.iolib.summary.Summary'>\n",
       "\"\"\"\n",
       "                            OLS Regression Results                            \n",
       "==============================================================================\n",
       "Dep. Variable:          np.log(renda)   R-squared:                       0.355\n",
       "Model:                            OLS   Adj. R-squared:                  0.353\n",
       "Method:                 Least Squares   F-statistic:                     262.3\n",
       "Date:                Fri, 26 Jul 2024   Prob (F-statistic):               0.00\n",
       "Time:                        16:26:09   Log-Likelihood:                -13593.\n",
       "No. Observations:               12427   AIC:                         2.724e+04\n",
       "Df Residuals:                   12400   BIC:                         2.744e+04\n",
       "Df Model:                          26                                         \n",
       "Covariance Type:            nonrobust                                         \n",
       "=====================================================================================================\n",
       "                                        coef    std err          t      P>|t|      [0.025      0.975]\n",
       "-----------------------------------------------------------------------------------------------------\n",
       "Intercept                             4.5872      1.026      4.471      0.000       2.576       6.598\n",
       "sexo[T.M]                             0.7807      0.015     53.218      0.000       0.752       0.809\n",
       "posse_de_veiculo[T.True]              0.0523      0.014      3.703      0.000       0.025       0.080\n",
       "posse_de_imovel[T.True]               0.0856      0.014      6.104      0.000       0.058       0.113\n",
       "C(qtd_filhos, Treatment(7))[T.0]      2.0123      0.822      2.447      0.014       0.400       3.624\n",
       "C(qtd_filhos, Treatment(7))[T.1]      1.7693      0.725      2.442      0.015       0.349       3.190\n",
       "C(qtd_filhos, Treatment(7))[T.2]      1.5197      0.630      2.411      0.016       0.284       2.755\n",
       "C(qtd_filhos, Treatment(7))[T.3]      1.1037      0.542      2.035      0.042       0.040       2.167\n",
       "C(qtd_filhos, Treatment(7))[T.4]      1.1904      0.490      2.427      0.015       0.229       2.152\n",
       "C(qtd_filhos, Treatment(7))[T.5]      0.9637      0.645      1.495      0.135      -0.300       2.227\n",
       "C(qtd_filhos, Treatment(7))[T.14]    -2.7160      0.969     -2.803      0.005      -4.615      -0.817\n",
       "tipo_renda[T.Bolsista]                0.3018      0.242      1.250      0.211      -0.172       0.775\n",
       "tipo_renda[T.Empresário]              0.1651      0.015     11.075      0.000       0.136       0.194\n",
       "tipo_renda[T.Pensionista]            -0.2558      0.242     -1.058      0.290      -0.730       0.218\n",
       "tipo_renda[T.Servidor público]        0.0730      0.022      3.293      0.001       0.030       0.116\n",
       "estado_civil[T.Separado]              0.3291      0.112      2.951      0.003       0.110       0.548\n",
       "estado_civil[T.Solteiro]              0.2694      0.109      2.467      0.014       0.055       0.483\n",
       "estado_civil[T.União]                -0.0371      0.025     -1.470      0.142      -0.087       0.012\n",
       "estado_civil[T.Viúvo]                 0.3655      0.116      3.155      0.002       0.138       0.593\n",
       "tipo_residencia[T.Casa]              -0.0363      0.054     -0.670      0.503      -0.143       0.070\n",
       "tipo_residencia[T.Com os pais]       -0.0172      0.060     -0.285      0.776      -0.136       0.101\n",
       "tipo_residencia[T.Comunitário]       -0.0772      0.106     -0.731      0.465      -0.284       0.130\n",
       "tipo_residencia[T.Estúdio]            0.0816      0.100      0.820      0.413      -0.114       0.277\n",
       "tipo_residencia[T.Governamental]     -0.0563      0.066     -0.852      0.394      -0.186       0.073\n",
       "idade                                 0.0052      0.001      6.493      0.000       0.004       0.007\n",
       "tempo_emprego                         0.0617      0.001     59.215      0.000       0.060       0.064\n",
       "qt_pessoas_residencia                 0.2890      0.108      2.676      0.007       0.077       0.501\n",
       "==============================================================================\n",
       "Omnibus:                        1.540   Durbin-Watson:                   2.025\n",
       "Prob(Omnibus):                  0.463   Jarque-Bera (JB):                1.507\n",
       "Skew:                           0.023   Prob(JB):                        0.471\n",
       "Kurtosis:                       3.027   Cond. No.                     1.25e+04\n",
       "==============================================================================\n",
       "\n",
       "Notes:\n",
       "[1] Standard Errors assume that the covariance matrix of the errors is correctly specified.\n",
       "[2] The condition number is large, 1.25e+04. This might indicate that there are\n",
       "strong multicollinearity or other numerical problems.\n",
       "\"\"\""
      ]
     },
     "execution_count": 57,
     "metadata": {},
     "output_type": "execute_result"
    }
   ],
   "source": [
    "df2 = smf.ols(''' np.log(renda) ~ sexo + posse_de_veiculo + posse_de_imovel + C(qtd_filhos, Treatment(7)) \n",
    "                + tipo_renda + idade + estado_civil + tipo_residencia + idade\n",
    "                + tempo_emprego + qt_pessoas_residencia''', data = df).fit()\n",
    "df2.summary()"
   ]
  },
  {
   "cell_type": "markdown",
   "metadata": {},
   "source": [
    "O modelo declinou no **$R^2$** e o **AIC** aumentou "
   ]
  },
  {
   "cell_type": "markdown",
   "metadata": {},
   "source": [
    "# 3"
   ]
  },
  {
   "cell_type": "code",
   "execution_count": 73,
   "metadata": {
    "colab": {
     "base_uri": "https://localhost:8080/",
     "height": 1000
    },
    "id": "nF_qmA4QFb8w",
    "outputId": "9b3fa56b-17bd-42c0-be94-735b04e5dc9a",
    "scrolled": true
   },
   "outputs": [
    {
     "data": {
      "text/html": [
       "<table class=\"simpletable\">\n",
       "<caption>OLS Regression Results</caption>\n",
       "<tr>\n",
       "  <th>Dep. Variable:</th>      <td>np.log(renda)</td>  <th>  R-squared:         </th> <td>   0.346</td> \n",
       "</tr>\n",
       "<tr>\n",
       "  <th>Model:</th>                   <td>OLS</td>       <th>  Adj. R-squared:    </th> <td>   0.346</td> \n",
       "</tr>\n",
       "<tr>\n",
       "  <th>Method:</th>             <td>Least Squares</td>  <th>  F-statistic:       </th> <td>   1315.</td> \n",
       "</tr>\n",
       "<tr>\n",
       "  <th>Date:</th>             <td>Fri, 26 Jul 2024</td> <th>  Prob (F-statistic):</th>  <td>  0.00</td>  \n",
       "</tr>\n",
       "<tr>\n",
       "  <th>Time:</th>                 <td>16:40:03</td>     <th>  Log-Likelihood:    </th> <td> -13676.</td> \n",
       "</tr>\n",
       "<tr>\n",
       "  <th>No. Observations:</th>      <td> 12427</td>      <th>  AIC:               </th> <td>2.736e+04</td>\n",
       "</tr>\n",
       "<tr>\n",
       "  <th>Df Residuals:</th>          <td> 12421</td>      <th>  BIC:               </th> <td>2.741e+04</td>\n",
       "</tr>\n",
       "<tr>\n",
       "  <th>Df Model:</th>              <td>     5</td>      <th>                     </th>     <td> </td>    \n",
       "</tr>\n",
       "<tr>\n",
       "  <th>Covariance Type:</th>      <td>nonrobust</td>    <th>                     </th>     <td> </td>    \n",
       "</tr>\n",
       "</table>\n",
       "<table class=\"simpletable\">\n",
       "<tr>\n",
       "              <td></td>                <th>coef</th>     <th>std err</th>      <th>t</th>      <th>P>|t|</th>  <th>[0.025</th>    <th>0.975]</th>  \n",
       "</tr>\n",
       "<tr>\n",
       "  <th>Intercept</th>                <td>    7.2550</td> <td>    0.032</td> <td>  228.981</td> <td> 0.000</td> <td>    7.193</td> <td>    7.317</td>\n",
       "</tr>\n",
       "<tr>\n",
       "  <th>sexo[T.M]</th>                <td>    0.7700</td> <td>    0.015</td> <td>   52.851</td> <td> 0.000</td> <td>    0.741</td> <td>    0.799</td>\n",
       "</tr>\n",
       "<tr>\n",
       "  <th>posse_de_veiculo[T.True]</th> <td>    0.0579</td> <td>    0.014</td> <td>    4.116</td> <td> 0.000</td> <td>    0.030</td> <td>    0.085</td>\n",
       "</tr>\n",
       "<tr>\n",
       "  <th>posse_de_imovel[T.True]</th>  <td>    0.0880</td> <td>    0.014</td> <td>    6.379</td> <td> 0.000</td> <td>    0.061</td> <td>    0.115</td>\n",
       "</tr>\n",
       "<tr>\n",
       "  <th>idade</th>                    <td>    0.0044</td> <td>    0.001</td> <td>    5.871</td> <td> 0.000</td> <td>    0.003</td> <td>    0.006</td>\n",
       "</tr>\n",
       "<tr>\n",
       "  <th>tempo_emprego</th>            <td>    0.0611</td> <td>    0.001</td> <td>   59.199</td> <td> 0.000</td> <td>    0.059</td> <td>    0.063</td>\n",
       "</tr>\n",
       "</table>\n",
       "<table class=\"simpletable\">\n",
       "<tr>\n",
       "  <th>Omnibus:</th>       <td> 1.248</td> <th>  Durbin-Watson:     </th> <td>   2.026</td>\n",
       "</tr>\n",
       "<tr>\n",
       "  <th>Prob(Omnibus):</th> <td> 0.536</td> <th>  Jarque-Bera (JB):  </th> <td>   1.221</td>\n",
       "</tr>\n",
       "<tr>\n",
       "  <th>Skew:</th>          <td> 0.022</td> <th>  Prob(JB):          </th> <td>   0.543</td>\n",
       "</tr>\n",
       "<tr>\n",
       "  <th>Kurtosis:</th>      <td> 3.019</td> <th>  Cond. No.          </th> <td>    209.</td>\n",
       "</tr>\n",
       "</table><br/><br/>Notes:<br/>[1] Standard Errors assume that the covariance matrix of the errors is correctly specified."
      ],
      "text/latex": [
       "\\begin{center}\n",
       "\\begin{tabular}{lclc}\n",
       "\\toprule\n",
       "\\textbf{Dep. Variable:}             &  np.log(renda)   & \\textbf{  R-squared:         } &     0.346   \\\\\n",
       "\\textbf{Model:}                     &       OLS        & \\textbf{  Adj. R-squared:    } &     0.346   \\\\\n",
       "\\textbf{Method:}                    &  Least Squares   & \\textbf{  F-statistic:       } &     1315.   \\\\\n",
       "\\textbf{Date:}                      & Fri, 26 Jul 2024 & \\textbf{  Prob (F-statistic):} &     0.00    \\\\\n",
       "\\textbf{Time:}                      &     16:40:03     & \\textbf{  Log-Likelihood:    } &   -13676.   \\\\\n",
       "\\textbf{No. Observations:}          &       12427      & \\textbf{  AIC:               } & 2.736e+04   \\\\\n",
       "\\textbf{Df Residuals:}              &       12421      & \\textbf{  BIC:               } & 2.741e+04   \\\\\n",
       "\\textbf{Df Model:}                  &           5      & \\textbf{                     } &             \\\\\n",
       "\\textbf{Covariance Type:}           &    nonrobust     & \\textbf{                     } &             \\\\\n",
       "\\bottomrule\n",
       "\\end{tabular}\n",
       "\\begin{tabular}{lcccccc}\n",
       "                                    & \\textbf{coef} & \\textbf{std err} & \\textbf{t} & \\textbf{P$> |$t$|$} & \\textbf{[0.025} & \\textbf{0.975]}  \\\\\n",
       "\\midrule\n",
       "\\textbf{Intercept}                  &       7.2550  &        0.032     &   228.981  &         0.000        &        7.193    &        7.317     \\\\\n",
       "\\textbf{sexo[T.M]}                  &       0.7700  &        0.015     &    52.851  &         0.000        &        0.741    &        0.799     \\\\\n",
       "\\textbf{posse\\_de\\_veiculo[T.True]} &       0.0579  &        0.014     &     4.116  &         0.000        &        0.030    &        0.085     \\\\\n",
       "\\textbf{posse\\_de\\_imovel[T.True]}  &       0.0880  &        0.014     &     6.379  &         0.000        &        0.061    &        0.115     \\\\\n",
       "\\textbf{idade}                      &       0.0044  &        0.001     &     5.871  &         0.000        &        0.003    &        0.006     \\\\\n",
       "\\textbf{tempo\\_emprego}             &       0.0611  &        0.001     &    59.199  &         0.000        &        0.059    &        0.063     \\\\\n",
       "\\bottomrule\n",
       "\\end{tabular}\n",
       "\\begin{tabular}{lclc}\n",
       "\\textbf{Omnibus:}       &  1.248 & \\textbf{  Durbin-Watson:     } &    2.026  \\\\\n",
       "\\textbf{Prob(Omnibus):} &  0.536 & \\textbf{  Jarque-Bera (JB):  } &    1.221  \\\\\n",
       "\\textbf{Skew:}          &  0.022 & \\textbf{  Prob(JB):          } &    0.543  \\\\\n",
       "\\textbf{Kurtosis:}      &  3.019 & \\textbf{  Cond. No.          } &     209.  \\\\\n",
       "\\bottomrule\n",
       "\\end{tabular}\n",
       "%\\caption{OLS Regression Results}\n",
       "\\end{center}\n",
       "\n",
       "Notes: \\newline\n",
       " [1] Standard Errors assume that the covariance matrix of the errors is correctly specified."
      ],
      "text/plain": [
       "<class 'statsmodels.iolib.summary.Summary'>\n",
       "\"\"\"\n",
       "                            OLS Regression Results                            \n",
       "==============================================================================\n",
       "Dep. Variable:          np.log(renda)   R-squared:                       0.346\n",
       "Model:                            OLS   Adj. R-squared:                  0.346\n",
       "Method:                 Least Squares   F-statistic:                     1315.\n",
       "Date:                Fri, 26 Jul 2024   Prob (F-statistic):               0.00\n",
       "Time:                        16:40:03   Log-Likelihood:                -13676.\n",
       "No. Observations:               12427   AIC:                         2.736e+04\n",
       "Df Residuals:                   12421   BIC:                         2.741e+04\n",
       "Df Model:                           5                                         \n",
       "Covariance Type:            nonrobust                                         \n",
       "============================================================================================\n",
       "                               coef    std err          t      P>|t|      [0.025      0.975]\n",
       "--------------------------------------------------------------------------------------------\n",
       "Intercept                    7.2550      0.032    228.981      0.000       7.193       7.317\n",
       "sexo[T.M]                    0.7700      0.015     52.851      0.000       0.741       0.799\n",
       "posse_de_veiculo[T.True]     0.0579      0.014      4.116      0.000       0.030       0.085\n",
       "posse_de_imovel[T.True]      0.0880      0.014      6.379      0.000       0.061       0.115\n",
       "idade                        0.0044      0.001      5.871      0.000       0.003       0.006\n",
       "tempo_emprego                0.0611      0.001     59.199      0.000       0.059       0.063\n",
       "==============================================================================\n",
       "Omnibus:                        1.248   Durbin-Watson:                   2.026\n",
       "Prob(Omnibus):                  0.536   Jarque-Bera (JB):                1.221\n",
       "Skew:                           0.022   Prob(JB):                        0.543\n",
       "Kurtosis:                       3.019   Cond. No.                         209.\n",
       "==============================================================================\n",
       "\n",
       "Notes:\n",
       "[1] Standard Errors assume that the covariance matrix of the errors is correctly specified.\n",
       "\"\"\""
      ]
     },
     "execution_count": 73,
     "metadata": {},
     "output_type": "execute_result"
    }
   ],
   "source": [
    "df1 = smf.ols(''' np.log(renda) ~ sexo + posse_de_veiculo + posse_de_imovel\n",
    "                  + idade + tempo_emprego''', data = df).fit()\n",
    "df1.summary()"
   ]
  },
  {
   "cell_type": "markdown",
   "metadata": {},
   "source": [
    "Após uns ajustes parece que o modelo perdeu um pouco da qualidade referente ao $R^2$ comparado ao primeiro modelo"
   ]
  }
 ],
 "metadata": {
  "colab": {
   "provenance": []
  },
  "kernelspec": {
   "display_name": "Python 3 (ipykernel)",
   "language": "python",
   "name": "python3"
  },
  "language_info": {
   "codemirror_mode": {
    "name": "ipython",
    "version": 3
   },
   "file_extension": ".py",
   "mimetype": "text/x-python",
   "name": "python",
   "nbconvert_exporter": "python",
   "pygments_lexer": "ipython3",
   "version": "3.11.7"
  }
 },
 "nbformat": 4,
 "nbformat_minor": 4
}
