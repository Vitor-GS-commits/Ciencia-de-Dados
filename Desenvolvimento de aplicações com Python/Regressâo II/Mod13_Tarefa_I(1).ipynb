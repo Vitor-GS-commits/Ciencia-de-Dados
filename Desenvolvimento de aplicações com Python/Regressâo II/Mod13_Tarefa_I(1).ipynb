{
 "cells": [
  {
   "cell_type": "markdown",
   "metadata": {
    "id": "u3ImM4OlAbtM"
   },
   "source": [
    "# EBAC - Regressão II - regressão múltipla\n",
    "\n",
    "## Tarefa I"
   ]
  },
  {
   "cell_type": "markdown",
   "metadata": {
    "id": "3T2kPf4MAbtV"
   },
   "source": [
    "#### Previsão de renda\n",
    "\n",
    "Vamos trabalhar com a base 'previsao_de_renda.csv', que é a base do seu próximo projeto. Vamos usar os recursos que vimos até aqui nesta base.\n",
    "\n",
    "|variavel|descrição|\n",
    "|-|-|\n",
    "|data_ref                | Data de referência de coleta das variáveis |\n",
    "|index                   | Código de identificação do cliente|\n",
    "|sexo                    | Sexo do cliente|\n",
    "|posse_de_veiculo        | Indica se o cliente possui veículo|\n",
    "|posse_de_imovel         | Indica se o cliente possui imóvel|\n",
    "|qtd_filhos              | Quantidade de filhos do cliente|\n",
    "|tipo_renda              | Tipo de renda do cliente|\n",
    "|educacao                | Grau de instrução do cliente|\n",
    "|estado_civil            | Estado civil do cliente|\n",
    "|tipo_residencia         | Tipo de residência do cliente (própria, alugada etc)|\n",
    "|idade                   | Idade do cliente|\n",
    "|tempo_emprego           | Tempo no emprego atual|\n",
    "|qt_pessoas_residencia   | Quantidade de pessoas que moram na residência|\n",
    "|renda                   | Renda em reais|"
   ]
  },
  {
   "cell_type": "code",
   "execution_count": 3,
   "metadata": {
    "id": "gK-w9tgwAbtW"
   },
   "outputs": [],
   "source": [
    "\n",
    "import pandas as pd\n",
    "import numpy as np\n",
    "\n",
    "import seaborn as sns\n",
    "import matplotlib.pyplot as plt\n",
    "\n",
    "# from sklearn.model_selection import train_test_split\n",
    "# from sklearn import metrics\n",
    "# from sklearn.ensemble import RandomForestClassifier\n",
    "\n",
    "# from scipy.stats import ks_2samp\n",
    "import statsmodels.formula.api as smf\n",
    "import statsmodels.api as sm\n",
    "import patsy\n"
   ]
  },
  {
   "cell_type": "code",
   "execution_count": 29,
   "metadata": {
    "id": "1oqRvcQxAbtY"
   },
   "outputs": [],
   "source": [
    "df = pd.read_csv('previsao_de_renda.csv')"
   ]
  },
  {
   "cell_type": "code",
   "execution_count": 31,
   "metadata": {
    "colab": {
     "base_uri": "https://localhost:8080/"
    },
    "id": "379vrkVHAbta",
    "outputId": "05928346-3188-4787-adcc-5487fa3a897a"
   },
   "outputs": [
    {
     "name": "stdout",
     "output_type": "stream",
     "text": [
      "<class 'pandas.core.frame.DataFrame'>\n",
      "RangeIndex: 15000 entries, 0 to 14999\n",
      "Data columns (total 16 columns):\n",
      " #   Column                 Non-Null Count  Dtype  \n",
      "---  ------                 --------------  -----  \n",
      " 0   Unnamed: 0             15000 non-null  int64  \n",
      " 1   data_ref               15000 non-null  object \n",
      " 2   index                  15000 non-null  int64  \n",
      " 3   sexo                   15000 non-null  object \n",
      " 4   posse_de_veiculo       15000 non-null  bool   \n",
      " 5   posse_de_imovel        15000 non-null  bool   \n",
      " 6   qtd_filhos             15000 non-null  int64  \n",
      " 7   tipo_renda             15000 non-null  object \n",
      " 8   educacao               15000 non-null  object \n",
      " 9   estado_civil           15000 non-null  object \n",
      " 10  tipo_residencia        15000 non-null  object \n",
      " 11  idade                  15000 non-null  int64  \n",
      " 12  tempo_emprego          12466 non-null  float64\n",
      " 13  qt_pessoas_residencia  15000 non-null  float64\n",
      " 14  mau                    15000 non-null  bool   \n",
      " 15  renda                  15000 non-null  float64\n",
      "dtypes: bool(3), float64(3), int64(4), object(6)\n",
      "memory usage: 1.5+ MB\n"
     ]
    }
   ],
   "source": [
    "df.info()"
   ]
  },
  {
   "cell_type": "markdown",
   "metadata": {
    "id": "mQ6PwTurAbtb"
   },
   "source": [
    "1. Ajuste um modelo para prever log(renda) considerando todas as covariáveis disponíveis.\n",
    "    - Utilizando os recursos do Patsy, coloque as variáveis qualitativas como *dummies*.\n",
    "    - Mantenha sempre a categoria mais frequente como casela de referência\n",
    "    - Avalie os parâmetros e veja se parecem fazer sentido prático.\n",
    "\n",
    "2. Remova a variável menos significante e analise:\n",
    "    - Observe os indicadores que vimos, e avalie se o modelo melhorou ou piorou na sua opinião.\n",
    "    - Observe os parâmetros e veja se algum se alterou muito.\n",
    "\n",
    "3. Siga removendo as variáveis menos significantes, sempre que o *p-value* for menor que 5%. Compare o modelo final com o inicial. Observe os indicadores e conclua se o modelo parece melhor.\n",
    "    "
   ]
  },
  {
   "cell_type": "code",
   "execution_count": 33,
   "metadata": {
    "colab": {
     "base_uri": "https://localhost:8080/"
    },
    "id": "zyOINoP1EO4X",
    "outputId": "455064c3-17f9-4646-c3a7-6dead58066c3"
   },
   "outputs": [
    {
     "data": {
      "text/plain": [
       "Index(['Unnamed: 0', 'data_ref', 'index', 'sexo', 'posse_de_veiculo',\n",
       "       'posse_de_imovel', 'qtd_filhos', 'tipo_renda', 'educacao',\n",
       "       'estado_civil', 'tipo_residencia', 'idade', 'tempo_emprego',\n",
       "       'qt_pessoas_residencia', 'mau', 'renda'],\n",
       "      dtype='object')"
      ]
     },
     "execution_count": 33,
     "metadata": {},
     "output_type": "execute_result"
    }
   ],
   "source": [
    "df.columns"
   ]
  },
  {
   "cell_type": "code",
   "execution_count": null,
   "metadata": {},
   "outputs": [],
   "source": []
  },
  {
   "cell_type": "code",
   "execution_count": 35,
   "metadata": {
    "id": "gQ6kRoE8Abtc"
   },
   "outputs": [],
   "source": [
    "#1\n",
    "df = df.drop(columns=['Unnamed: 0','data_ref', 'index'])"
   ]
  },
  {
   "cell_type": "code",
   "execution_count": 37,
   "metadata": {
    "colab": {
     "base_uri": "https://localhost:8080/"
    },
    "id": "6n6l35jqErds",
    "outputId": "c3a546a4-2174-4436-fd54-60ead68e87e9"
   },
   "outputs": [
    {
     "name": "stdout",
     "output_type": "stream",
     "text": [
      "<class 'pandas.core.frame.DataFrame'>\n",
      "RangeIndex: 15000 entries, 0 to 14999\n",
      "Data columns (total 13 columns):\n",
      " #   Column                 Non-Null Count  Dtype  \n",
      "---  ------                 --------------  -----  \n",
      " 0   sexo                   15000 non-null  object \n",
      " 1   posse_de_veiculo       15000 non-null  bool   \n",
      " 2   posse_de_imovel        15000 non-null  bool   \n",
      " 3   qtd_filhos             15000 non-null  int64  \n",
      " 4   tipo_renda             15000 non-null  object \n",
      " 5   educacao               15000 non-null  object \n",
      " 6   estado_civil           15000 non-null  object \n",
      " 7   tipo_residencia        15000 non-null  object \n",
      " 8   idade                  15000 non-null  int64  \n",
      " 9   tempo_emprego          12466 non-null  float64\n",
      " 10  qt_pessoas_residencia  15000 non-null  float64\n",
      " 11  mau                    15000 non-null  bool   \n",
      " 12  renda                  15000 non-null  float64\n",
      "dtypes: bool(3), float64(3), int64(2), object(5)\n",
      "memory usage: 1.2+ MB\n"
     ]
    }
   ],
   "source": [
    "df.info()"
   ]
  },
  {
   "cell_type": "code",
   "execution_count": 49,
   "metadata": {
    "colab": {
     "base_uri": "https://localhost:8080/",
     "height": 383
    },
    "id": "aaJfqLb3CroO",
    "outputId": "1b02e5fe-60f8-4422-8e02-43546661205b"
   },
   "outputs": [],
   "source": [
    "#df.groupby(['qtd_filhos']).sum()"
   ]
  },
  {
   "cell_type": "code",
   "execution_count": 47,
   "metadata": {},
   "outputs": [
    {
     "data": {
      "text/plain": [
       "0"
      ]
     },
     "execution_count": 47,
     "metadata": {},
     "output_type": "execute_result"
    }
   ],
   "source": [
    "categoria_mais_frequente = df['qtd_filhos'].value_counts().idxmax()\n",
    "categoria_mais_frequente"
   ]
  },
  {
   "cell_type": "code",
   "execution_count": 63,
   "metadata": {},
   "outputs": [
    {
     "data": {
      "text/plain": [
       "2.0"
      ]
     },
     "execution_count": 63,
     "metadata": {},
     "output_type": "execute_result"
    }
   ],
   "source": [
    "categoria_mais_frequente2 = df['qt_pessoas_residencia'].value_counts().idxmax()\n",
    "categoria_mais_frequente2"
   ]
  },
  {
   "cell_type": "code",
   "execution_count": 71,
   "metadata": {},
   "outputs": [
    {
     "data": {
      "text/plain": [
       "tipo_renda\n",
       "Assalariado         7826\n",
       "Empresário          3311\n",
       "Pensionista         2543\n",
       "Servidor público    1316\n",
       "Bolsista               4\n",
       "Name: count, dtype: int64"
      ]
     },
     "execution_count": 71,
     "metadata": {},
     "output_type": "execute_result"
    }
   ],
   "source": [
    "categoria_mais_frequente3 = df['tipo_renda'].value_counts()\n",
    "categoria_mais_frequente3"
   ]
  },
  {
   "cell_type": "code",
   "execution_count": 91,
   "metadata": {
    "colab": {
     "base_uri": "https://localhost:8080/",
     "height": 1000
    },
    "id": "nF_qmA4QFb8w",
    "outputId": "9b3fa56b-17bd-42c0-be94-735b04e5dc9a"
   },
   "outputs": [
    {
     "data": {
      "text/html": [
       "<table class=\"simpletable\">\n",
       "<caption>OLS Regression Results</caption>\n",
       "<tr>\n",
       "  <th>Dep. Variable:</th>      <td>np.log(renda)</td>  <th>  R-squared:         </th> <td>   0.715</td> \n",
       "</tr>\n",
       "<tr>\n",
       "  <th>Model:</th>                   <td>OLS</td>       <th>  Adj. R-squared:    </th> <td>   0.715</td> \n",
       "</tr>\n",
       "<tr>\n",
       "  <th>Method:</th>             <td>Least Squares</td>  <th>  F-statistic:       </th> <td>   1837.</td> \n",
       "</tr>\n",
       "<tr>\n",
       "  <th>Date:</th>             <td>Wed, 24 Jul 2024</td> <th>  Prob (F-statistic):</th>  <td>  0.00</td>  \n",
       "</tr>\n",
       "<tr>\n",
       "  <th>Time:</th>                 <td>16:27:24</td>     <th>  Log-Likelihood:    </th> <td> -7105.1</td> \n",
       "</tr>\n",
       "<tr>\n",
       "  <th>No. Observations:</th>      <td> 12466</td>      <th>  AIC:               </th> <td>1.425e+04</td>\n",
       "</tr>\n",
       "<tr>\n",
       "  <th>Df Residuals:</th>          <td> 12448</td>      <th>  BIC:               </th> <td>1.438e+04</td>\n",
       "</tr>\n",
       "<tr>\n",
       "  <th>Df Model:</th>              <td>    17</td>      <th>                     </th>     <td> </td>    \n",
       "</tr>\n",
       "<tr>\n",
       "  <th>Covariance Type:</th>      <td>nonrobust</td>    <th>                     </th>     <td> </td>    \n",
       "</tr>\n",
       "</table>\n",
       "<table class=\"simpletable\">\n",
       "<tr>\n",
       "                  <td></td>                     <th>coef</th>     <th>std err</th>      <th>t</th>      <th>P>|t|</th>  <th>[0.025</th>    <th>0.975]</th>  \n",
       "</tr>\n",
       "<tr>\n",
       "  <th>Intercept</th>                         <td>    6.5044</td> <td>    0.303</td> <td>   21.452</td> <td> 0.000</td> <td>    5.910</td> <td>    7.099</td>\n",
       "</tr>\n",
       "<tr>\n",
       "  <th>sexo[T.M]</th>                         <td>    0.1757</td> <td>    0.009</td> <td>   19.721</td> <td> 0.000</td> <td>    0.158</td> <td>    0.193</td>\n",
       "</tr>\n",
       "<tr>\n",
       "  <th>posse_de_veiculo[T.True]</th>          <td>    0.0131</td> <td>    0.008</td> <td>    1.570</td> <td> 0.116</td> <td>   -0.003</td> <td>    0.029</td>\n",
       "</tr>\n",
       "<tr>\n",
       "  <th>posse_de_imovel[T.True]</th>           <td>    0.0448</td> <td>    0.008</td> <td>    5.514</td> <td> 0.000</td> <td>    0.029</td> <td>    0.061</td>\n",
       "</tr>\n",
       "<tr>\n",
       "  <th>C(qtd_filhos, Treatment(7))[T.0]</th>  <td>    0.7778</td> <td>    0.303</td> <td>    2.568</td> <td> 0.010</td> <td>    0.184</td> <td>    1.372</td>\n",
       "</tr>\n",
       "<tr>\n",
       "  <th>C(qtd_filhos, Treatment(7))[T.1]</th>  <td>    0.7731</td> <td>    0.303</td> <td>    2.552</td> <td> 0.011</td> <td>    0.179</td> <td>    1.367</td>\n",
       "</tr>\n",
       "<tr>\n",
       "  <th>C(qtd_filhos, Treatment(7))[T.2]</th>  <td>    0.8011</td> <td>    0.303</td> <td>    2.643</td> <td> 0.008</td> <td>    0.207</td> <td>    1.395</td>\n",
       "</tr>\n",
       "<tr>\n",
       "  <th>C(qtd_filhos, Treatment(7))[T.3]</th>  <td>    0.8260</td> <td>    0.305</td> <td>    2.711</td> <td> 0.007</td> <td>    0.229</td> <td>    1.423</td>\n",
       "</tr>\n",
       "<tr>\n",
       "  <th>C(qtd_filhos, Treatment(7))[T.4]</th>  <td>    0.8977</td> <td>    0.318</td> <td>    2.819</td> <td> 0.005</td> <td>    0.274</td> <td>    1.522</td>\n",
       "</tr>\n",
       "<tr>\n",
       "  <th>C(qtd_filhos, Treatment(7))[T.5]</th>  <td>    0.8188</td> <td>    0.428</td> <td>    1.912</td> <td> 0.056</td> <td>   -0.021</td> <td>    1.658</td>\n",
       "</tr>\n",
       "<tr>\n",
       "  <th>C(qtd_filhos, Treatment(7))[T.14]</th> <td>    0.8292</td> <td>    0.371</td> <td>    2.235</td> <td> 0.025</td> <td>    0.102</td> <td>    1.557</td>\n",
       "</tr>\n",
       "<tr>\n",
       "  <th>tipo_renda[T.Bolsista]</th>            <td>    0.0749</td> <td>    0.214</td> <td>    0.350</td> <td> 0.727</td> <td>   -0.345</td> <td>    0.495</td>\n",
       "</tr>\n",
       "<tr>\n",
       "  <th>tipo_renda[T.Empresário]</th>          <td>    0.0490</td> <td>    0.009</td> <td>    5.464</td> <td> 0.000</td> <td>    0.031</td> <td>    0.067</td>\n",
       "</tr>\n",
       "<tr>\n",
       "  <th>tipo_renda[T.Pensionista]</th>         <td>    0.1725</td> <td>    0.143</td> <td>    1.208</td> <td> 0.227</td> <td>   -0.108</td> <td>    0.453</td>\n",
       "</tr>\n",
       "<tr>\n",
       "  <th>tipo_renda[T.Servidor público]</th>    <td>    0.0417</td> <td>    0.013</td> <td>    3.232</td> <td> 0.001</td> <td>    0.016</td> <td>    0.067</td>\n",
       "</tr>\n",
       "<tr>\n",
       "  <th>idade</th>                             <td>    0.0014</td> <td>    0.000</td> <td>    2.998</td> <td> 0.003</td> <td>    0.000</td> <td>    0.002</td>\n",
       "</tr>\n",
       "<tr>\n",
       "  <th>tempo_emprego</th>                     <td>    0.0098</td> <td>    0.001</td> <td>   14.731</td> <td> 0.000</td> <td>    0.008</td> <td>    0.011</td>\n",
       "</tr>\n",
       "<tr>\n",
       "  <th>renda</th>                             <td>    0.0001</td> <td> 8.89e-07</td> <td>  144.440</td> <td> 0.000</td> <td>    0.000</td> <td>    0.000</td>\n",
       "</tr>\n",
       "</table>\n",
       "<table class=\"simpletable\">\n",
       "<tr>\n",
       "  <th>Omnibus:</th>       <td>7648.007</td> <th>  Durbin-Watson:     </th>  <td>   1.994</td> \n",
       "</tr>\n",
       "<tr>\n",
       "  <th>Prob(Omnibus):</th>  <td> 0.000</td>  <th>  Jarque-Bera (JB):  </th> <td>196698.837</td>\n",
       "</tr>\n",
       "<tr>\n",
       "  <th>Skew:</th>           <td>-2.498</td>  <th>  Prob(JB):          </th>  <td>    0.00</td> \n",
       "</tr>\n",
       "<tr>\n",
       "  <th>Kurtosis:</th>       <td>21.808</td>  <th>  Cond. No.          </th>  <td>1.56e+06</td> \n",
       "</tr>\n",
       "</table><br/><br/>Notes:<br/>[1] Standard Errors assume that the covariance matrix of the errors is correctly specified.<br/>[2] The condition number is large, 1.56e+06. This might indicate that there are<br/>strong multicollinearity or other numerical problems."
      ],
      "text/latex": [
       "\\begin{center}\n",
       "\\begin{tabular}{lclc}\n",
       "\\toprule\n",
       "\\textbf{Dep. Variable:}                     &  np.log(renda)   & \\textbf{  R-squared:         } &     0.715   \\\\\n",
       "\\textbf{Model:}                             &       OLS        & \\textbf{  Adj. R-squared:    } &     0.715   \\\\\n",
       "\\textbf{Method:}                            &  Least Squares   & \\textbf{  F-statistic:       } &     1837.   \\\\\n",
       "\\textbf{Date:}                              & Wed, 24 Jul 2024 & \\textbf{  Prob (F-statistic):} &     0.00    \\\\\n",
       "\\textbf{Time:}                              &     16:27:24     & \\textbf{  Log-Likelihood:    } &   -7105.1   \\\\\n",
       "\\textbf{No. Observations:}                  &       12466      & \\textbf{  AIC:               } & 1.425e+04   \\\\\n",
       "\\textbf{Df Residuals:}                      &       12448      & \\textbf{  BIC:               } & 1.438e+04   \\\\\n",
       "\\textbf{Df Model:}                          &          17      & \\textbf{                     } &             \\\\\n",
       "\\textbf{Covariance Type:}                   &    nonrobust     & \\textbf{                     } &             \\\\\n",
       "\\bottomrule\n",
       "\\end{tabular}\n",
       "\\begin{tabular}{lcccccc}\n",
       "                                            & \\textbf{coef} & \\textbf{std err} & \\textbf{t} & \\textbf{P$> |$t$|$} & \\textbf{[0.025} & \\textbf{0.975]}  \\\\\n",
       "\\midrule\n",
       "\\textbf{Intercept}                          &       6.5044  &        0.303     &    21.452  &         0.000        &        5.910    &        7.099     \\\\\n",
       "\\textbf{sexo[T.M]}                          &       0.1757  &        0.009     &    19.721  &         0.000        &        0.158    &        0.193     \\\\\n",
       "\\textbf{posse\\_de\\_veiculo[T.True]}         &       0.0131  &        0.008     &     1.570  &         0.116        &       -0.003    &        0.029     \\\\\n",
       "\\textbf{posse\\_de\\_imovel[T.True]}          &       0.0448  &        0.008     &     5.514  &         0.000        &        0.029    &        0.061     \\\\\n",
       "\\textbf{C(qtd\\_filhos, Treatment(7))[T.0]}  &       0.7778  &        0.303     &     2.568  &         0.010        &        0.184    &        1.372     \\\\\n",
       "\\textbf{C(qtd\\_filhos, Treatment(7))[T.1]}  &       0.7731  &        0.303     &     2.552  &         0.011        &        0.179    &        1.367     \\\\\n",
       "\\textbf{C(qtd\\_filhos, Treatment(7))[T.2]}  &       0.8011  &        0.303     &     2.643  &         0.008        &        0.207    &        1.395     \\\\\n",
       "\\textbf{C(qtd\\_filhos, Treatment(7))[T.3]}  &       0.8260  &        0.305     &     2.711  &         0.007        &        0.229    &        1.423     \\\\\n",
       "\\textbf{C(qtd\\_filhos, Treatment(7))[T.4]}  &       0.8977  &        0.318     &     2.819  &         0.005        &        0.274    &        1.522     \\\\\n",
       "\\textbf{C(qtd\\_filhos, Treatment(7))[T.5]}  &       0.8188  &        0.428     &     1.912  &         0.056        &       -0.021    &        1.658     \\\\\n",
       "\\textbf{C(qtd\\_filhos, Treatment(7))[T.14]} &       0.8292  &        0.371     &     2.235  &         0.025        &        0.102    &        1.557     \\\\\n",
       "\\textbf{tipo\\_renda[T.Bolsista]}            &       0.0749  &        0.214     &     0.350  &         0.727        &       -0.345    &        0.495     \\\\\n",
       "\\textbf{tipo\\_renda[T.Empresário]}          &       0.0490  &        0.009     &     5.464  &         0.000        &        0.031    &        0.067     \\\\\n",
       "\\textbf{tipo\\_renda[T.Pensionista]}         &       0.1725  &        0.143     &     1.208  &         0.227        &       -0.108    &        0.453     \\\\\n",
       "\\textbf{tipo\\_renda[T.Servidor público]}    &       0.0417  &        0.013     &     3.232  &         0.001        &        0.016    &        0.067     \\\\\n",
       "\\textbf{idade}                              &       0.0014  &        0.000     &     2.998  &         0.003        &        0.000    &        0.002     \\\\\n",
       "\\textbf{tempo\\_emprego}                     &       0.0098  &        0.001     &    14.731  &         0.000        &        0.008    &        0.011     \\\\\n",
       "\\textbf{renda}                              &       0.0001  &     8.89e-07     &   144.440  &         0.000        &        0.000    &        0.000     \\\\\n",
       "\\bottomrule\n",
       "\\end{tabular}\n",
       "\\begin{tabular}{lclc}\n",
       "\\textbf{Omnibus:}       & 7648.007 & \\textbf{  Durbin-Watson:     } &     1.994   \\\\\n",
       "\\textbf{Prob(Omnibus):} &   0.000  & \\textbf{  Jarque-Bera (JB):  } & 196698.837  \\\\\n",
       "\\textbf{Skew:}          &  -2.498  & \\textbf{  Prob(JB):          } &      0.00   \\\\\n",
       "\\textbf{Kurtosis:}      &  21.808  & \\textbf{  Cond. No.          } &  1.56e+06   \\\\\n",
       "\\bottomrule\n",
       "\\end{tabular}\n",
       "%\\caption{OLS Regression Results}\n",
       "\\end{center}\n",
       "\n",
       "Notes: \\newline\n",
       " [1] Standard Errors assume that the covariance matrix of the errors is correctly specified. \\newline\n",
       " [2] The condition number is large, 1.56e+06. This might indicate that there are \\newline\n",
       " strong multicollinearity or other numerical problems."
      ],
      "text/plain": [
       "<class 'statsmodels.iolib.summary.Summary'>\n",
       "\"\"\"\n",
       "                            OLS Regression Results                            \n",
       "==============================================================================\n",
       "Dep. Variable:          np.log(renda)   R-squared:                       0.715\n",
       "Model:                            OLS   Adj. R-squared:                  0.715\n",
       "Method:                 Least Squares   F-statistic:                     1837.\n",
       "Date:                Wed, 24 Jul 2024   Prob (F-statistic):               0.00\n",
       "Time:                        16:27:24   Log-Likelihood:                -7105.1\n",
       "No. Observations:               12466   AIC:                         1.425e+04\n",
       "Df Residuals:                   12448   BIC:                         1.438e+04\n",
       "Df Model:                          17                                         \n",
       "Covariance Type:            nonrobust                                         \n",
       "=====================================================================================================\n",
       "                                        coef    std err          t      P>|t|      [0.025      0.975]\n",
       "-----------------------------------------------------------------------------------------------------\n",
       "Intercept                             6.5044      0.303     21.452      0.000       5.910       7.099\n",
       "sexo[T.M]                             0.1757      0.009     19.721      0.000       0.158       0.193\n",
       "posse_de_veiculo[T.True]              0.0131      0.008      1.570      0.116      -0.003       0.029\n",
       "posse_de_imovel[T.True]               0.0448      0.008      5.514      0.000       0.029       0.061\n",
       "C(qtd_filhos, Treatment(7))[T.0]      0.7778      0.303      2.568      0.010       0.184       1.372\n",
       "C(qtd_filhos, Treatment(7))[T.1]      0.7731      0.303      2.552      0.011       0.179       1.367\n",
       "C(qtd_filhos, Treatment(7))[T.2]      0.8011      0.303      2.643      0.008       0.207       1.395\n",
       "C(qtd_filhos, Treatment(7))[T.3]      0.8260      0.305      2.711      0.007       0.229       1.423\n",
       "C(qtd_filhos, Treatment(7))[T.4]      0.8977      0.318      2.819      0.005       0.274       1.522\n",
       "C(qtd_filhos, Treatment(7))[T.5]      0.8188      0.428      1.912      0.056      -0.021       1.658\n",
       "C(qtd_filhos, Treatment(7))[T.14]     0.8292      0.371      2.235      0.025       0.102       1.557\n",
       "tipo_renda[T.Bolsista]                0.0749      0.214      0.350      0.727      -0.345       0.495\n",
       "tipo_renda[T.Empresário]              0.0490      0.009      5.464      0.000       0.031       0.067\n",
       "tipo_renda[T.Pensionista]             0.1725      0.143      1.208      0.227      -0.108       0.453\n",
       "tipo_renda[T.Servidor público]        0.0417      0.013      3.232      0.001       0.016       0.067\n",
       "idade                                 0.0014      0.000      2.998      0.003       0.000       0.002\n",
       "tempo_emprego                         0.0098      0.001     14.731      0.000       0.008       0.011\n",
       "renda                                 0.0001   8.89e-07    144.440      0.000       0.000       0.000\n",
       "==============================================================================\n",
       "Omnibus:                     7648.007   Durbin-Watson:                   1.994\n",
       "Prob(Omnibus):                  0.000   Jarque-Bera (JB):           196698.837\n",
       "Skew:                          -2.498   Prob(JB):                         0.00\n",
       "Kurtosis:                      21.808   Cond. No.                     1.56e+06\n",
       "==============================================================================\n",
       "\n",
       "Notes:\n",
       "[1] Standard Errors assume that the covariance matrix of the errors is correctly specified.\n",
       "[2] The condition number is large, 1.56e+06. This might indicate that there are\n",
       "strong multicollinearity or other numerical problems.\n",
       "\"\"\""
      ]
     },
     "execution_count": 91,
     "metadata": {},
     "output_type": "execute_result"
    }
   ],
   "source": [
    "df1 = smf.ols(' np.log(renda) ~ sexo + posse_de_veiculo + posse_de_imovel + C(qtd_filhos, Treatment(7)) + tipo_renda + idade + tempo_emprego + renda', data = df).fit()\n",
    "df1.summary()"
   ]
  },
  {
   "cell_type": "markdown",
   "metadata": {
    "id": "J6rpIrQUKArd"
   },
   "source": [
    "Após ajustes o modelo acima foi o melhor encontrado observando o p-value e os R-quadrado e R-quadrado ajustado "
   ]
  }
 ],
 "metadata": {
  "colab": {
   "provenance": []
  },
  "kernelspec": {
   "display_name": "Python 3 (ipykernel)",
   "language": "python",
   "name": "python3"
  },
  "language_info": {
   "codemirror_mode": {
    "name": "ipython",
    "version": 3
   },
   "file_extension": ".py",
   "mimetype": "text/x-python",
   "name": "python",
   "nbconvert_exporter": "python",
   "pygments_lexer": "ipython3",
   "version": "3.11.7"
  }
 },
 "nbformat": 4,
 "nbformat_minor": 4
}
